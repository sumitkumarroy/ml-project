{
 "cells": [
  {
   "cell_type": "code",
   "execution_count": 1,
   "id": "d4dfa2c9",
   "metadata": {},
   "outputs": [],
   "source": [
    "## importing all requirde libraries ##\n",
    "\n",
    "import numpy as np\n",
    "import pandas as pd\n",
    "import matplotlib.pyplot as plt\n",
    "from sklearn.model_selection import train_test_split\n",
    "import warnings\n",
    "warnings.filterwarnings(\"ignore\")\n",
    "from sklearn.preprocessing import LabelEncoder"
   ]
  },
  {
   "cell_type": "code",
   "execution_count": 2,
   "id": "578dac2a",
   "metadata": {},
   "outputs": [
    {
     "data": {
      "text/html": [
       "<div>\n",
       "<style scoped>\n",
       "    .dataframe tbody tr th:only-of-type {\n",
       "        vertical-align: middle;\n",
       "    }\n",
       "\n",
       "    .dataframe tbody tr th {\n",
       "        vertical-align: top;\n",
       "    }\n",
       "\n",
       "    .dataframe thead th {\n",
       "        text-align: right;\n",
       "    }\n",
       "</style>\n",
       "<table border=\"1\" class=\"dataframe\">\n",
       "  <thead>\n",
       "    <tr style=\"text-align: right;\">\n",
       "      <th></th>\n",
       "      <th>id</th>\n",
       "      <th>Gender</th>\n",
       "      <th>Age</th>\n",
       "      <th>Height</th>\n",
       "      <th>Weight</th>\n",
       "      <th>family_history_with_overweight</th>\n",
       "      <th>FAVC</th>\n",
       "      <th>FCVC</th>\n",
       "      <th>NCP</th>\n",
       "      <th>CAEC</th>\n",
       "      <th>SMOKE</th>\n",
       "      <th>CH2O</th>\n",
       "      <th>SCC</th>\n",
       "      <th>FAF</th>\n",
       "      <th>TUE</th>\n",
       "      <th>CALC</th>\n",
       "      <th>MTRANS</th>\n",
       "      <th>NObeyesdad</th>\n",
       "    </tr>\n",
       "  </thead>\n",
       "  <tbody>\n",
       "    <tr>\n",
       "      <th>0</th>\n",
       "      <td>1</td>\n",
       "      <td>Female</td>\n",
       "      <td>21.0</td>\n",
       "      <td>1.62</td>\n",
       "      <td>64.0</td>\n",
       "      <td>yes</td>\n",
       "      <td>no</td>\n",
       "      <td>2.0</td>\n",
       "      <td>3.0</td>\n",
       "      <td>Sometimes</td>\n",
       "      <td>no</td>\n",
       "      <td>2.0</td>\n",
       "      <td>no</td>\n",
       "      <td>0.0</td>\n",
       "      <td>1.0</td>\n",
       "      <td>no</td>\n",
       "      <td>Public_Transportation</td>\n",
       "      <td>Normal_Weight</td>\n",
       "    </tr>\n",
       "    <tr>\n",
       "      <th>1</th>\n",
       "      <td>2</td>\n",
       "      <td>Female</td>\n",
       "      <td>21.0</td>\n",
       "      <td>1.52</td>\n",
       "      <td>56.0</td>\n",
       "      <td>yes</td>\n",
       "      <td>no</td>\n",
       "      <td>3.0</td>\n",
       "      <td>3.0</td>\n",
       "      <td>Sometimes</td>\n",
       "      <td>yes</td>\n",
       "      <td>3.0</td>\n",
       "      <td>yes</td>\n",
       "      <td>3.0</td>\n",
       "      <td>0.0</td>\n",
       "      <td>Sometimes</td>\n",
       "      <td>Public_Transportation</td>\n",
       "      <td>Normal_Weight</td>\n",
       "    </tr>\n",
       "    <tr>\n",
       "      <th>2</th>\n",
       "      <td>3</td>\n",
       "      <td>Male</td>\n",
       "      <td>23.0</td>\n",
       "      <td>1.80</td>\n",
       "      <td>77.0</td>\n",
       "      <td>yes</td>\n",
       "      <td>no</td>\n",
       "      <td>2.0</td>\n",
       "      <td>3.0</td>\n",
       "      <td>Sometimes</td>\n",
       "      <td>no</td>\n",
       "      <td>2.0</td>\n",
       "      <td>no</td>\n",
       "      <td>2.0</td>\n",
       "      <td>1.0</td>\n",
       "      <td>Frequently</td>\n",
       "      <td>Public_Transportation</td>\n",
       "      <td>Normal_Weight</td>\n",
       "    </tr>\n",
       "    <tr>\n",
       "      <th>3</th>\n",
       "      <td>4</td>\n",
       "      <td>Male</td>\n",
       "      <td>27.0</td>\n",
       "      <td>1.80</td>\n",
       "      <td>87.0</td>\n",
       "      <td>no</td>\n",
       "      <td>no</td>\n",
       "      <td>3.0</td>\n",
       "      <td>3.0</td>\n",
       "      <td>Sometimes</td>\n",
       "      <td>no</td>\n",
       "      <td>2.0</td>\n",
       "      <td>no</td>\n",
       "      <td>2.0</td>\n",
       "      <td>0.0</td>\n",
       "      <td>Frequently</td>\n",
       "      <td>Walking</td>\n",
       "      <td>Overweight_Level_I</td>\n",
       "    </tr>\n",
       "    <tr>\n",
       "      <th>4</th>\n",
       "      <td>5</td>\n",
       "      <td>Male</td>\n",
       "      <td>22.0</td>\n",
       "      <td>1.78</td>\n",
       "      <td>89.8</td>\n",
       "      <td>no</td>\n",
       "      <td>no</td>\n",
       "      <td>2.0</td>\n",
       "      <td>1.0</td>\n",
       "      <td>Sometimes</td>\n",
       "      <td>no</td>\n",
       "      <td>2.0</td>\n",
       "      <td>no</td>\n",
       "      <td>0.0</td>\n",
       "      <td>0.0</td>\n",
       "      <td>Sometimes</td>\n",
       "      <td>Public_Transportation</td>\n",
       "      <td>Overweight_Level_II</td>\n",
       "    </tr>\n",
       "  </tbody>\n",
       "</table>\n",
       "</div>"
      ],
      "text/plain": [
       "   id  Gender   Age  Height  Weight family_history_with_overweight FAVC  FCVC  \\\n",
       "0   1  Female  21.0    1.62    64.0                            yes   no   2.0   \n",
       "1   2  Female  21.0    1.52    56.0                            yes   no   3.0   \n",
       "2   3    Male  23.0    1.80    77.0                            yes   no   2.0   \n",
       "3   4    Male  27.0    1.80    87.0                             no   no   3.0   \n",
       "4   5    Male  22.0    1.78    89.8                             no   no   2.0   \n",
       "\n",
       "   NCP       CAEC SMOKE  CH2O  SCC  FAF  TUE        CALC  \\\n",
       "0  3.0  Sometimes    no   2.0   no  0.0  1.0          no   \n",
       "1  3.0  Sometimes   yes   3.0  yes  3.0  0.0   Sometimes   \n",
       "2  3.0  Sometimes    no   2.0   no  2.0  1.0  Frequently   \n",
       "3  3.0  Sometimes    no   2.0   no  2.0  0.0  Frequently   \n",
       "4  1.0  Sometimes    no   2.0   no  0.0  0.0   Sometimes   \n",
       "\n",
       "                  MTRANS           NObeyesdad  \n",
       "0  Public_Transportation        Normal_Weight  \n",
       "1  Public_Transportation        Normal_Weight  \n",
       "2  Public_Transportation        Normal_Weight  \n",
       "3                Walking   Overweight_Level_I  \n",
       "4  Public_Transportation  Overweight_Level_II  "
      ]
     },
     "execution_count": 2,
     "metadata": {},
     "output_type": "execute_result"
    }
   ],
   "source": [
    "# installing the dataset\n",
    "df = pd.read_csv('E:\\\\csv\\\\data.csv')\n",
    "df.head()"
   ]
  },
  {
   "cell_type": "code",
   "execution_count": 3,
   "id": "8844ad31",
   "metadata": {},
   "outputs": [
    {
     "data": {
      "text/plain": [
       "id                                  int64\n",
       "Gender                             object\n",
       "Age                               float64\n",
       "Height                            float64\n",
       "Weight                            float64\n",
       "family_history_with_overweight     object\n",
       "FAVC                               object\n",
       "FCVC                              float64\n",
       "NCP                               float64\n",
       "CAEC                               object\n",
       "SMOKE                              object\n",
       "CH2O                              float64\n",
       "SCC                                object\n",
       "FAF                               float64\n",
       "TUE                               float64\n",
       "CALC                               object\n",
       "MTRANS                             object\n",
       "NObeyesdad                         object\n",
       "dtype: object"
      ]
     },
     "execution_count": 3,
     "metadata": {},
     "output_type": "execute_result"
    }
   ],
   "source": [
    "# Dataset types\n",
    "df.dtypes"
   ]
  },
  {
   "cell_type": "code",
   "execution_count": 4,
   "id": "6f0bee3d",
   "metadata": {},
   "outputs": [
    {
     "name": "stdout",
     "output_type": "stream",
     "text": [
      "['Insufficient_Weight' 'Normal_Weight' 'Obesity_Type_I' 'Obesity_Type_II'\n",
      " 'Obesity_Type_III' 'Overweight_Level_I' 'Overweight_Level_II']\n"
     ]
    }
   ],
   "source": [
    "print(np.unique( df['NObeyesdad']))"
   ]
  },
  {
   "cell_type": "code",
   "execution_count": 5,
   "id": "6ce066be",
   "metadata": {},
   "outputs": [],
   "source": [
    "# Converting all the datatypes in int\n",
    "\n",
    "\n",
    "le=LabelEncoder()\n",
    "df.Gender=le.fit_transform(df.Gender)\n",
    "df.family_history_with_overweight=le.fit_transform(df.family_history_with_overweight)\n",
    "df.FAVC=le.fit_transform(df.FAVC)\n",
    "df.CAEC=le.fit_transform(df.CAEC)\n",
    "df.SMOKE=le.fit_transform(df.SMOKE)\n",
    "df.SCC=le.fit_transform(df.SCC)\n",
    "df.CALC=le.fit_transform(df.CALC)\n",
    "df.MTRANS=le.fit_transform(df.MTRANS)\n",
    "df.NObeyesdad=le.fit_transform(df.NObeyesdad)"
   ]
  },
  {
   "cell_type": "code",
   "execution_count": 6,
   "id": "1342285b",
   "metadata": {},
   "outputs": [
    {
     "name": "stdout",
     "output_type": "stream",
     "text": [
      "        id  Gender        Age    Height      Weight  \\\n",
      "0        1       0  21.000000  1.620000   64.000000   \n",
      "1        2       0  21.000000  1.520000   56.000000   \n",
      "2        3       1  23.000000  1.800000   77.000000   \n",
      "3        4       1  27.000000  1.800000   87.000000   \n",
      "4        5       1  22.000000  1.780000   89.800000   \n",
      "...    ...     ...        ...       ...         ...   \n",
      "2106  2107       0  20.976842  1.710730  131.408528   \n",
      "2107  2108       0  21.982942  1.748584  133.742943   \n",
      "2108  2109       0  22.524036  1.752206  133.689352   \n",
      "2109  2110       0  24.361936  1.739450  133.346641   \n",
      "2110  2111       0  23.664709  1.738836  133.472641   \n",
      "\n",
      "      family_history_with_overweight  FAVC  FCVC  NCP  CAEC  SMOKE      CH2O  \\\n",
      "0                                  1     0   2.0  3.0     2      0  2.000000   \n",
      "1                                  1     0   3.0  3.0     2      1  3.000000   \n",
      "2                                  1     0   2.0  3.0     2      0  2.000000   \n",
      "3                                  0     0   3.0  3.0     2      0  2.000000   \n",
      "4                                  0     0   2.0  1.0     2      0  2.000000   \n",
      "...                              ...   ...   ...  ...   ...    ...       ...   \n",
      "2106                               1     1   3.0  3.0     2      0  1.728139   \n",
      "2107                               1     1   3.0  3.0     2      0  2.005130   \n",
      "2108                               1     1   3.0  3.0     2      0  2.054193   \n",
      "2109                               1     1   3.0  3.0     2      0  2.852339   \n",
      "2110                               1     1   3.0  3.0     2      0  2.863513   \n",
      "\n",
      "      SCC       FAF       TUE  CALC  MTRANS  NObeyesdad  \n",
      "0       0  0.000000  1.000000     3       3           1  \n",
      "1       1  3.000000  0.000000     2       3           1  \n",
      "2       0  2.000000  1.000000     1       3           1  \n",
      "3       0  2.000000  0.000000     1       4           5  \n",
      "4       0  0.000000  0.000000     2       3           6  \n",
      "...   ...       ...       ...   ...     ...         ...  \n",
      "2106    0  1.676269  0.906247     2       3           4  \n",
      "2107    0  1.341390  0.599270     2       3           4  \n",
      "2108    0  1.414209  0.646288     2       3           4  \n",
      "2109    0  1.139107  0.586035     2       3           4  \n",
      "2110    0  1.026452  0.714137     2       3           4  \n",
      "\n",
      "[2111 rows x 18 columns]\n"
     ]
    }
   ],
   "source": [
    "# New dataset\n",
    "print(df)"
   ]
  },
  {
   "cell_type": "code",
   "execution_count": 7,
   "id": "b4504815",
   "metadata": {},
   "outputs": [
    {
     "data": {
      "image/png": "[encoded data removed]",
      "text/plain": [
       "<Figure size 640x480 with 1 Axes>"
      ]
     },
     "metadata": {},
     "output_type": "display_data"
    }
   ],
   "source": [
    "import matplotlib.pyplot as plt\n",
    "\n",
    "# Data for the pie chart\n",
    "categories = ['id', 'Gender', 'Age', 'Height', 'Weight','family_history_with_overweight', 'FAVC', 'FCVC', 'NCP', 'CAEC','SMOKE', 'CH2O', 'SCC', 'FAF', 'TUE', 'CALC', 'MTRANS', 'NObeyesdad']\n",
    "scores = [2.2,1.0,5.1,3.5,1.8,1.7,1.8,5.1,5.6,3.9,4.4,4.2,9.6,2.1,1.3,4.7,4.9,6.3]  # Example scores for each category\n",
    "\n",
    "# Plotting the pie chart\n",
    "plt.pie(scores, labels=categories, autopct='%1.0f%%')\n",
    "\n",
    "# Adding a title\n",
    "plt.title('estimation obesity data')\n",
    "\n",
    "# Displaying the chart\n",
    "plt.show()\n"
   ]
  },
  {
   "cell_type": "code",
   "execution_count": 8,
   "id": "c67531af",
   "metadata": {},
   "outputs": [
    {
     "data": {
      "text/plain": [
       "(2111,)"
      ]
     },
     "execution_count": 8,
     "metadata": {},
     "output_type": "execute_result"
    }
   ],
   "source": [
    "df.columns\n",
    "selected_df=df[['Age', 'Height', 'Weight', 'FCVC', 'NCP', 'CH2O', 'FAF', 'TUE',]]\n",
    "\n",
    "#independent var(Data)\n",
    "X=np.asarray(selected_df)\n",
    "\n",
    "#dependent var(target)\n",
    "y=np.asarray(df['NObeyesdad'])\n",
    "\n",
    "X.shape\n",
    "y.shape"
   ]
  },
  {
   "cell_type": "code",
   "execution_count": 9,
   "id": "8e35749e",
   "metadata": {},
   "outputs": [
    {
     "data": {
      "text/plain": [
       "(423,)"
      ]
     },
     "execution_count": 9,
     "metadata": {},
     "output_type": "execute_result"
    }
   ],
   "source": [
    "# Training the datasrt\n",
    "X_train, X_test, y_train, y_test = train_test_split(X, y, test_size=0.2, random_state=42)\n",
    "X_train.shape\n",
    "X_test.shape\n",
    "y_train.shape\n",
    "y_test.shape\n"
   ]
  },
  {
   "cell_type": "code",
   "execution_count": 10,
   "id": "1324d5b0",
   "metadata": {},
   "outputs": [
    {
     "name": "stdout",
     "output_type": "stream",
     "text": [
      "kneighbors :- 0.8628841607565012\n",
      "svc :- 0.5602836879432624\n",
      "gaussionNB :- 0.5957446808510638\n",
      "perceptron :- 0.33569739952718675\n",
      "decisiontree :- 0.8037825059101655\n"
     ]
    }
   ],
   "source": [
    "####-------------------Classification----------------###\n",
    "# importing all requirde libraries and modules\n",
    "from sklearn.linear_model import Perceptron\n",
    "from sklearn.svm import SVC\n",
    "from sklearn.tree import DecisionTreeClassifier\n",
    "from sklearn.neighbors import KNeighborsClassifier\n",
    "from sklearn.naive_bayes import GaussianNB\n",
    "\n",
    "\n",
    "# Giving Parameters to the fumctions\n",
    "clf1=KNeighborsClassifier(n_neighbors=5,metric=\"minkowski\")\n",
    "clf2=SVC(C=1.0,kernel=\"rbf\")\n",
    "clf3=GaussianNB(priors=None)\n",
    "clf4=Perceptron(alpha=0,l1_ratio=0.15,max_iter=100)\n",
    "clf5=DecisionTreeClassifier(criterion=\"gini\",splitter=\"best\", max_depth=5)\n",
    "\n",
    "\n",
    "clf=[clf1,clf2,clf3,clf4,clf5]\n",
    "clf_name=[\"kneighbors\",\"svc\",\"gaussionNB\",\"perceptron\",\"decisiontree\"]\n",
    "\n",
    "from sklearn.metrics import accuracy_score \n",
    "accuracy={}\n",
    "import time \n",
    "acc={}\n",
    "t={}\n",
    "for model,model_name in zip(clf,clf_name):\n",
    "    st=time.time()\n",
    "    model.fit(X_train,y_train)                     # Fit the regressor or classifier to the training data\n",
    "    pred=model.predict(X_test)                     # Make predictions on the test set\n",
    "    et=time.time()\n",
    "    acc[model_name]=accuracy_score(y_test,pred)\n",
    "    t[model_name]=et-st\n",
    "\n",
    "for i,j in acc.items():\n",
    "    print(i,\":-\",j)\n"
   ]
  },
  {
   "cell_type": "code",
   "execution_count": 14,
   "id": "d57c1606",
   "metadata": {},
   "outputs": [
    {
     "name": "stdout",
     "output_type": "stream",
     "text": [
      "kneighbors = 0.015621185302734375\n",
      "svc = 0.12539029121398926\n",
      "gaussionNB = 0.016113758087158203\n",
      "perceptron = 0.0\n",
      "decisiontree = 0.016304731369018555\n"
     ]
    },
    {
     "data": {
      "text/plain": [
       "Text(0.5, 1.0, 'time comparsion')"
      ]
     },
     "execution_count": 14,
     "metadata": {},
     "output_type": "execute_result"
    },
    {
     "data": {
      "image/png": "[encoded data removed]",
      "text/plain": [
       "<Figure size 640x480 with 1 Axes>"
      ]
     },
     "metadata": {},
     "output_type": "display_data"
    }
   ],
   "source": [
    "for i,j in t.items():\n",
    "    print(i,'=',j)\n",
    "plt.bar(t.keys(),t.values())\n",
    "plt.title(\"time comparsion\")\n"
   ]
  },
  {
   "cell_type": "code",
   "execution_count": 12,
   "id": "0548e5cf",
   "metadata": {},
   "outputs": [
    {
     "data": {
      "text/plain": [
       "Text(0.5, 1.0, 'test accuracy comparsion')"
      ]
     },
     "execution_count": 12,
     "metadata": {},
     "output_type": "execute_result"
    },
    {
     "data": {
      "image/png": "[encoded data removed]",
      "text/plain": [
       "<Figure size 640x480 with 1 Axes>"
      ]
     },
     "metadata": {},
     "output_type": "display_data"
    }
   ],
   "source": [
    "plt.bar(acc.keys(),acc.values())\n",
    "plt.title(\"test accuracy comparsion\")\n"
   ]
  },
  {
   "cell_type": "code",
   "execution_count": 13,
   "id": "3e93149e",
   "metadata": {},
   "outputs": [
    {
     "name": "stdout",
     "output_type": "stream",
     "text": [
      "\n",
      "LinearRegression:\n",
      "Mean Squared Error: 2.9304370390871686\n",
      "\n",
      "LogisticRegression:\n",
      "Accuracy: 0.7541371158392435\n",
      "\n",
      "RandomForestRegressor:\n",
      "Mean Squared Error: 0.2722404255319149\n",
      "\n",
      "DecisionTreeRegressor:\n",
      "Mean Squared Error: 0.5933806146572104\n",
      "\n",
      "SVR:\n",
      "Mean Squared Error: 2.471656885418024\n"
     ]
    }
   ],
   "source": [
    "####-------------------Regression----------------###\n",
    "# importing all requirde libraries and modules\n",
    "from sklearn.linear_model import LogisticRegression, LinearRegression\n",
    "from sklearn.ensemble import RandomForestRegressor\n",
    "from sklearn.tree import DecisionTreeRegressor\n",
    "from sklearn.svm import SVR\n",
    "from sklearn.metrics import mean_squared_error, accuracy_score\n",
    "\n",
    "\n",
    "X_train, X_test, y_train, y_test = train_test_split(X, y, test_size=0.2, random_state=42)\n",
    "\n",
    "# Giving Parameters to the functions\n",
    "Reg1=LinearRegression()\n",
    "Reg2=LogisticRegression(penalty='l2',tol=0.0001,C=1.0,max_iter=10000)\n",
    "Reg3=RandomForestRegressor(n_estimators=100, random_state=42)\n",
    "Reg4=DecisionTreeRegressor(random_state=42)\n",
    "Reg5=SVR(kernel='rbf', C=1.0, epsilon=0.1)\n",
    "\n",
    "\n",
    "\n",
    "Reg = [Reg1,Reg2,Reg3,Reg4,Reg5]\n",
    "Reg_name=['LinearRegression','LogisticRegression','RandomForestRegressor','DecisionTreeRegressor','SVR']\n",
    "\n",
    "\n",
    "# Calling all the functions in for loop\n",
    "for function, name in zip(Reg, Reg_name):\n",
    "    print(f\"\\n{name}:\")\n",
    "    \n",
    "    \n",
    "    function.fit(X_train, y_train)                 # Fit the regressor or classifier to the training data\n",
    "    predictions = function.predict(X_test)         # Make predictions on the test set\n",
    "    if isinstance(function, LogisticRegression):\n",
    "        accuracy = accuracy_score(y_test, predictions)\n",
    "        print(\"Accuracy:\", accuracy)\n",
    "    else:\n",
    "        mse = mean_squared_error(y_test, predictions)\n",
    "        print(\"Mean Squared Error:\", mse)\n",
    "    "
   ]
  },
  {
   "cell_type": "code",
   "execution_count": null,
   "id": "dead952d",
   "metadata": {},
   "outputs": [],
   "source": []
  }
 ],
 "metadata": {
  "kernelspec": {
   "display_name": "Python 3 (ipykernel)",
   "language": "python",
   "name": "python3"
  },
  "language_info": {
   "codemirror_mode": {
    "name": "ipython",
    "version": 3
   },
   "file_extension": ".py",
   "mimetype": "text/x-python",
   "name": "python",
   "nbconvert_exporter": "python",
   "pygments_lexer": "ipython3",
   "version": "3.9.13"
  }
 },
 "nbformat": 4,
 "nbformat_minor": 5
}
